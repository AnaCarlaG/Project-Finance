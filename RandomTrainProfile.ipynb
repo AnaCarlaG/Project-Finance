{
 "cells": [
  {
   "cell_type": "code",
   "execution_count": 25,
   "metadata": {},
   "outputs": [],
   "source": [
    "import random"
   ]
  },
  {
   "cell_type": "code",
   "execution_count": 26,
   "metadata": {},
   "outputs": [],
   "source": [
    "class Profile(object):\n",
    "    \n",
    "    def __init__(self,id_profile):\n",
    "        self.q1 = []\n",
    "        self.q2 = []\n",
    "        self.q3 = []\n",
    "        self.q4 = []\n",
    "        self.q5 = []\n",
    "        self.q6 = []\n",
    "        self.q7 = []\n",
    "        self.id_profile = id_profile\n",
    "    def generate_random_profile(self):\n",
    "        q1 = self.q1[(int) (random.random() * len(self.q1))]\n",
    "        q2 = self.q2[(int) (random.random() * len(self.q2))]\n",
    "        q3 = self.q3[(int) (random.random() * len(self.q3))]\n",
    "        q4 = self.q4[(int) (random.random() * len(self.q4))]\n",
    "        q5 = self.q5[(int) (random.random() * len(self.q5))]\n",
    "        q6 = self.q6[(int) (random.random() * len(self.q6))]\n",
    "        q7 = self.q7[(int) (random.random() * len(self.q7))]\n",
    "        return [q1,q2,q3,q4,q5,q6,q7,self.id_profile]"
   ]
  },
  {
   "cell_type": "code",
   "execution_count": 27,
   "metadata": {},
   "outputs": [
    {
     "name": "stdout",
     "output_type": "stream",
     "text": [
      "[1, 0, 0, 0, 1, 1, 1, 1]\n",
      "[1, 0, 1, 0, 3, 0, 0, 1]\n",
      "[2, 0, 0, 0, 0, 1, 0, 1]\n",
      "[1, 0, 1, 0, 0, 5, 1, 1]\n",
      "[0, 0, 1, 0, 2, 1, 1, 1]\n",
      "[0, 0, 0, 0, 1, 4, 2, 1]\n",
      "[0, 0, 0, 0, 0, 7, 0, 1]\n",
      "[2, 0, 0, 0, 2, 3, 0, 1]\n",
      "[1, 0, 1, 0, 0, 7, 0, 1]\n",
      "[1, 0, 1, 0, 0, 5, 0, 1]\n"
     ]
    }
   ],
   "source": [
    "ultraconservador = Profile(1)\n",
    "ultraconservador.q1 = [0,1,2]\n",
    "ultraconservador.q2 = [0]\n",
    "ultraconservador.q3 = [0,1]\n",
    "ultraconservador.q4 = [0]\n",
    "ultraconservador.q5 = [0,1,2,3]\n",
    "ultraconservador.q6 = [0,1,2,3,4,5,6,7]\n",
    "ultraconservador.q7 = [0,1,2]\n",
    "for i in range(10):\n",
    "    print(ultraconservador.generate_random_profile())"
   ]
  },
  {
   "cell_type": "code",
   "execution_count": 28,
   "metadata": {},
   "outputs": [
    {
     "name": "stdout",
     "output_type": "stream",
     "text": [
      "[2, 1, 1, 1, 1, 10, 0, 2]\n",
      "[1, 1, 2, 1, 3, 9, 0, 2]\n",
      "[1, 0, 2, 1, 2, 3, 1, 2]\n",
      "[2, 1, 1, 1, 0, 6, 1, 2]\n",
      "[2, 1, 2, 1, 0, 9, 1, 2]\n",
      "[1, 1, 1, 1, 1, 7, 1, 2]\n",
      "[2, 0, 1, 1, 1, 12, 2, 2]\n",
      "[2, 0, 1, 1, 0, 2, 1, 2]\n",
      "[1, 1, 2, 1, 3, 8, 1, 2]\n",
      "[0, 1, 2, 1, 2, 2, 2, 2]\n"
     ]
    }
   ],
   "source": [
    "conservador_mente = Profile(2)\n",
    "conservador_mente.q1 = [0,1,2]\n",
    "conservador_mente.q2 = [0,1]\n",
    "conservador_mente.q3 = [1,2]\n",
    "conservador_mente.q4 = [1]\n",
    "conservador_mente.q5 = [0,1,2,3]\n",
    "conservador_mente.q6 = [0,1,2,3,4,5,6,7,8,9,10,12]\n",
    "conservador_mente.q7 = [0,1,2]\n",
    "for i in range(10):\n",
    "    print(conservador_mente.generate_random_profile())"
   ]
  },
  {
   "cell_type": "code",
   "execution_count": 29,
   "metadata": {},
   "outputs": [
    {
     "name": "stdout",
     "output_type": "stream",
     "text": [
      "[0, 1, 3, 1, 1, 21, 2, 3]\n",
      "[2, 1, 2, 2, 1, 21, 2, 3]\n",
      "[0, 1, 2, 2, 0, 23, 0, 3]\n",
      "[0, 1, 2, 1, 0, 31, 1, 3]\n",
      "[2, 1, 3, 1, 0, 25, 2, 3]\n",
      "[0, 1, 2, 1, 2, 31, 2, 3]\n",
      "[2, 1, 3, 1, 2, 17, 1, 3]\n",
      "[2, 1, 2, 2, 2, 17, 0, 3]\n",
      "[2, 1, 2, 1, 0, 21, 2, 3]\n",
      "[2, 1, 2, 1, 1, 24, 2, 3]\n"
     ]
    }
   ],
   "source": [
    "arrojado = Profile(3)\n",
    "arrojado.q1 = [0,2]\n",
    "arrojado.q2 = [1]\n",
    "arrojado.q3 = [2,3]\n",
    "arrojado.q4 = [1,2]\n",
    "arrojado.q5 = [0,1,2,3]\n",
    "arrojado.q6 = range(16,32)\n",
    "arrojado.q7 = [0,1,2]\n",
    "for i in range(10):\n",
    "    print(arrojado.generate_random_profile())"
   ]
  },
  {
   "cell_type": "code",
   "execution_count": 30,
   "metadata": {},
   "outputs": [
    {
     "name": "stdout",
     "output_type": "stream",
     "text": [
      "[2, 1, 2, 2, 1, 15, 1, 4]\n",
      "[2, 1, 3, 1, 0, 10, 0, 4]\n",
      "[0, 1, 3, 2, 0, 31, 1, 4]\n",
      "[2, 1, 1, 2, 0, 0, 1, 4]\n",
      "[0, 1, 3, 1, 1, 12, 0, 4]\n",
      "[0, 1, 3, 1, 1, 3, 0, 4]\n",
      "[1, 1, 2, 1, 1, 11, 0, 4]\n",
      "[2, 1, 3, 1, 0, 10, 1, 4]\n",
      "[0, 1, 2, 1, 1, 15, 0, 4]\n",
      "[0, 1, 3, 1, 1, 24, 1, 4]\n"
     ]
    }
   ],
   "source": [
    "oportunista = Profile(4)\n",
    "oportunista.q1 = [0,1,2]\n",
    "oportunista.q2 = [1]\n",
    "oportunista.q3 = [1,2,3]\n",
    "oportunista.q4 = [1,2]\n",
    "oportunista.q5 = [0,1]\n",
    "oportunista.q6 = range(0,32)\n",
    "oportunista.q7 = [0,1]\n",
    "for i in range(10):\n",
    "    print(oportunista.generate_random_profile())"
   ]
  },
  {
   "cell_type": "code",
   "execution_count": 31,
   "metadata": {},
   "outputs": [
    {
     "name": "stdout",
     "output_type": "stream",
     "text": [
      "[0, 1, 2, 0, 0, 8, 0, 5]\n",
      "[2, 1, 2, 0, 0, 8, 0, 5]\n",
      "[2, 1, 0, 0, 1, 8, 0, 5]\n",
      "[0, 1, 3, 2, 0, 16, 0, 5]\n",
      "[2, 1, 0, 0, 0, 8, 0, 5]\n",
      "[2, 1, 0, 2, 0, 8, 0, 5]\n",
      "[2, 1, 2, 0, 1, 16, 0, 5]\n",
      "[2, 1, 2, 2, 1, 24, 0, 5]\n",
      "[2, 1, 3, 0, 0, 24, 0, 5]\n",
      "[2, 1, 0, 0, 1, 16, 0, 5]\n"
     ]
    }
   ],
   "source": [
    "especulador = Profile(5)\n",
    "especulador.q1 = [0,2]\n",
    "especulador.q2 = [1]\n",
    "especulador.q3 = [0,2,3]\n",
    "especulador.q4 = [0,2]\n",
    "especulador.q5 = [0,1]\n",
    "especulador.q6 = [8,16,24]\n",
    "especulador.q7 = [0]\n",
    "for i in range(10):\n",
    "    print(especulador.generate_random_profile())"
   ]
  },
  {
   "cell_type": "code",
   "execution_count": 32,
   "metadata": {},
   "outputs": [
    {
     "name": "stdout",
     "output_type": "stream",
     "text": [
      "[1, 0, 3, 3, 0, 19, 2, 6]\n",
      "[2, 0, 2, 2, 1, 5, 2, 6]\n",
      "[1, 0, 1, 3, 0, 31, 2, 6]\n",
      "[2, 0, 3, 2, 0, 12, 2, 6]\n",
      "[2, 0, 1, 2, 0, 14, 2, 6]\n",
      "[1, 0, 3, 2, 1, 25, 2, 6]\n",
      "[2, 0, 2, 2, 0, 29, 2, 6]\n",
      "[1, 0, 3, 3, 1, 19, 2, 6]\n",
      "[2, 0, 3, 2, 0, 0, 2, 6]\n",
      "[1, 0, 2, 2, 1, 11, 2, 6]\n"
     ]
    }
   ],
   "source": [
    "relaxado = Profile(6)\n",
    "relaxado.q1 = [1,2]\n",
    "relaxado.q2 = [0]\n",
    "relaxado.q3 = [1,2,3]\n",
    "relaxado.q4 = [2,3]\n",
    "relaxado.q5 = [0,1]\n",
    "relaxado.q6 = range(0,32)\n",
    "relaxado.q7 = [2]\n",
    "for i in range(10):\n",
    "    print(relaxado.generate_random_profile())"
   ]
  },
  {
   "cell_type": "code",
   "execution_count": 34,
   "metadata": {},
   "outputs": [],
   "source": [
    "import csv\n",
    "with open('Train_Profile.csv', 'w', newline='') as csvfile:\n",
    "    spamwriter = csv.writer(csvfile, delimiter=';')\n",
    "    spamwriter.writerow(['Q1','Q2','Q3','Q4','Q5','Q6','Q7','Perfil'])\n",
    "    for i in range(600):\n",
    "        spamwriter.writerow(ultraconservador.generate_random_profile())\n",
    "        spamwriter.writerow(conservador_mente.generate_random_profile())\n",
    "        spamwriter.writerow(arrojado.generate_random_profile())\n",
    "        spamwriter.writerow(oportunista.generate_random_profile())\n",
    "        spamwriter.writerow(especulador.generate_random_profile())\n",
    "        spamwriter.writerow(relaxado.generate_random_profile())"
   ]
  },
  {
   "cell_type": "code",
   "execution_count": null,
   "metadata": {},
   "outputs": [],
   "source": []
  }
 ],
 "metadata": {
  "kernelspec": {
   "display_name": "Python 3",
   "language": "python",
   "name": "python3"
  },
  "language_info": {
   "codemirror_mode": {
    "name": "ipython",
    "version": 3
   },
   "file_extension": ".py",
   "mimetype": "text/x-python",
   "name": "python",
   "nbconvert_exporter": "python",
   "pygments_lexer": "ipython3",
   "version": "3.7.3"
  }
 },
 "nbformat": 4,
 "nbformat_minor": 2
}
